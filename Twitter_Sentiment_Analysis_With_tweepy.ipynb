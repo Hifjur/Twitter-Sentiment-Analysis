{
  "nbformat": 4,
  "nbformat_minor": 0,
  "metadata": {
    "colab": {
      "name": "Twitter Sentiment Analysis With tweepy.ipynb",
      "provenance": [],
      "collapsed_sections": [],
      "authorship_tag": "ABX9TyOlIdFYCMvMUCIhIIdYm0HG",
      "include_colab_link": true
    },
    "kernelspec": {
      "name": "python3",
      "display_name": "Python 3"
    },
    "language_info": {
      "name": "python"
    }
  },
  "cells": [
    {
      "cell_type": "markdown",
      "metadata": {
        "id": "view-in-github",
        "colab_type": "text"
      },
      "source": [
        "<a href=\"https://colab.research.google.com/github/Hifjur/Twitter-Sentiment-Analysis/blob/main/Twitter_Sentiment_Analysis_With_tweepy.ipynb\" target=\"_parent\"><img src=\"https://colab.research.google.com/assets/colab-badge.svg\" alt=\"Open In Colab\"/></a>"
      ]
    },
    {
      "cell_type": "code",
      "metadata": {
        "id": "OaTE5cqdAY0Y"
      },
      "source": [
        "#importing the libraries\n",
        "import tweepy\n",
        "from textblob import TextBlob\n",
        "from wordcloud import WordCloud\n",
        "import pandas as pd\n",
        "import numpy as np\n",
        "import re\n",
        "import matplotlib.pyplot as plt\n",
        "plt.style.use('fivethirtyeight')"
      ],
      "execution_count": null,
      "outputs": []
    },
    {
      "cell_type": "code",
      "metadata": {
        "colab": {
          "resources": {
            "http://localhost:8080/nbextensions/google.colab/files.js": {
              "data": "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",
              "ok": true,
              "headers": [
                [
                  "content-type",
                  "application/javascript"
                ]
              ],
              "status": 200,
              "status_text": ""
            }
          },
          "base_uri": "https://localhost:8080/",
          "height": 72
        },
        "id": "VWVx7rZkD2FE",
        "outputId": "3bc140ce-4ea3-4705-cc6d-bc04527a7774"
      },
      "source": [
        "#Load authincation files\n",
        "from google.colab import files\n",
        "uploaded = files.upload()\n"
      ],
      "execution_count": null,
      "outputs": [
        {
          "output_type": "display_data",
          "data": {
            "text/html": [
              "\n",
              "     <input type=\"file\" id=\"files-855770ad-576a-41f0-b2b4-a6eb2d00e735\" name=\"files[]\" multiple disabled\n",
              "        style=\"border:none\" />\n",
              "     <output id=\"result-855770ad-576a-41f0-b2b4-a6eb2d00e735\">\n",
              "      Upload widget is only available when the cell has been executed in the\n",
              "      current browser session. Please rerun this cell to enable.\n",
              "      </output>\n",
              "      <script src=\"/nbextensions/google.colab/files.js\"></script> "
            ],
            "text/plain": [
              "<IPython.core.display.HTML object>"
            ]
          },
          "metadata": {}
        },
        {
          "output_type": "stream",
          "text": [
            "Saving login_data .csv to login_data .csv\n"
          ],
          "name": "stdout"
        }
      ]
    },
    {
      "cell_type": "code",
      "metadata": {
        "id": "h7jDeKMnEpxI"
      },
      "source": [
        "#loading data\n",
        "load = pd.read_csv('login_data .csv')"
      ],
      "execution_count": null,
      "outputs": []
    },
    {
      "cell_type": "code",
      "metadata": {
        "id": "C9uJrIf0GSWq"
      },
      "source": [
        "#authinticator credentials\n",
        "\n",
        "\n",
        "#secret_key = load['Secret_key'][3]\n",
        "#accessToken = load['Keys']\n",
        "#accessTokenSecret = load['Keys']\n",
        "key = 'M1ygI0LUyDBnIARq38z7eed3D'\n",
        "secret_key = 'nc5IZFWGiD3ZMiYI5Q48T0KPWh8tN5rnNKITMUh8o26iqBclHO'\n",
        "accessToken = '2432875586-XHsf89RWppCGO9Jir5rHUYifW8qpeTHSicVf060'\n",
        "accessTokenSecret = 'MAc6rLjKzGIiQAKfpBu60eSp7M1TohrirtJuIRMVTLapF'"
      ],
      "execution_count": null,
      "outputs": []
    },
    {
      "cell_type": "code",
      "metadata": {
        "id": "zsXeEmf_THgN"
      },
      "source": [
        "#Authentication Object\n",
        "authenticate = tweepy.OAuthHandler(key, secret_key)\n",
        "#token and secret token\n",
        "authenticate.set_access_token(accessToken, accessTokenSecret)\n",
        "#Api Object\n",
        "api = tweepy.API(authenticate ,wait_on_rate_limit=True)"
      ],
      "execution_count": null,
      "outputs": []
    },
    {
      "cell_type": "code",
      "metadata": {
        "colab": {
          "base_uri": "https://localhost:8080/"
        },
        "id": "OX8vCf9sVgi8",
        "outputId": "b32d3fc2-3d55-4dde-a574-cff19f0ebc14"
      },
      "source": [
        "#Fetching tweet \n",
        "posts = api.user_timeline(screen_name = \"BillGates\", count=200, lang=\"en\", tweet_mode=\"extended\")\n",
        "\n",
        "#print the latest 10 tweets\n",
        "print(\"leatest 50 tweets: \\n\")\n",
        "i=1\n",
        "for tweet in posts[0:50]:\n",
        "  print(str(i)+ ')'+ tweet.full_text + '\\n')\n",
        "  i=i+1"
      ],
      "execution_count": null,
      "outputs": [
        {
          "output_type": "stream",
          "text": [
            "leatest 50 tweets: \n",
            "\n",
            "1)I applaud David Vélez and Mariel Reyes’s pledge to dedicate the majority of their wealth to creating opportunity for the most vulnerable Latin American children and young adults: https://t.co/LGZ23efAVO\n",
            "\n",
            "2)Thank you to @DonorsChoose, and to all 40,255 of you who donated in support of students and teachers across the country. https://t.co/g2ABbfFtsl\n",
            "\n",
            "3)This collaboration’s impact is made possible through investments in the bipartisan infrastructure bill, which will unleash billions in private capital for clean energy projects throughout the U.S. if passed into law. Thank you @SecGranholm for your partnership.\n",
            "\n",
            "4)Avoiding a climate disaster will require a new, clean industrial revolution, and we don't have time to wait. Our work together will not only send us on a more viable path to net zero, but it will create long-term jobs in communities across the country.\n",
            "\n",
            "5)I'm incredibly excited about the new collaboration between @Breakthrough Energy Catalyst and @ENERGY to accelerate the adoption of next-generation clean technologies and build the net-zero economy: https://t.co/85aqtW8HCr\n",
            "\n",
            "6)I’m partnering with @DonorsChoose to make sure that more teachers have access to everything they need to get ready for the new school year. I’ll give your donation an extra 50% boost today when you give to any classroom project or supply request. https://t.co/PjNI0vyjUC\n",
            "\n",
            "7)I’m optimistic about the work that @Breakthrough is doing to invest in companies, support innovators, advocate for better policies, and lower the cost of climate tech. Join us. https://t.co/xlbtvEAqcn\n",
            "\n",
            "8)Reaching zero will take a complete transformation of how we make and do everything – from the technologies and products we create to our public policies to the way we use markets to accelerate change. We need a new industrial revolution powered by clean technology.\n",
            "\n",
            "9)Every climate action we take must be toward the goal of reaching zero. That means rapidly deploying the technologies we have today to reduce emissions and investing immediately in the solutions we still need to get the world to zero.\n",
            "\n",
            "10)Avoiding a disaster will require courage, ambition, and partnership among leaders in every sector around the globe. As the report makes clear, no region will be spared by climate change. It will take all of us to meet this challenge.\n",
            "\n",
            "11)Today’s United Nations climate report is an urgent call to action for the world: we must reach net-zero emissions by 2050 to avoid a climate disaster. https://t.co/eSaC2HyD8q\n",
            "\n",
            "12)Alzheimer’s and related dementias have impacted far too many families around the world—including my own. New funding from @TheADDF will help @EDoNInitiative accelerate data collection and sharing to enable early detection and treatment. https://t.co/4Q28soukxu\n",
            "\n",
            "13)Today’s students have the power to create a better future for all people, and teachers are helping them build their framework for understanding the world. Thank you to Bryan Stevenson for joining the @OERProject Conference for Social Studies this week. https://t.co/3tpHHnbICc\n",
            "\n",
            "14)I’m deeply saddened to hear of Tachi’s passing. I loved working with him and I learned a lot from him. His passion for saving lives and making the world a fairer place was inspiring, and he matched it with an incredible intellect. I will miss him. https://t.co/68O3ytcoo4\n",
            "\n",
            "15)Vaclav Smil’s books are amazing. His latest will give you a framework to think about humanity: https://t.co/sgWOBDRYR4 https://t.co/EsQNmjHvHg\n",
            "\n",
            "16)I enjoyed joining educators from around the world at the @OERProject Conference for the Social Studies to discuss how their teaching practices have changed over the last year and a half. I’m inspired by their resilience and dedication to their students: https://t.co/e7A0IuUhz1 https://t.co/f5K54U0OZj\n",
            "\n",
            "17)It only took Senegal 15 years to cut childhood death in half. Community health workers and successful vaccination campaigns played a key role in this success. Read more from @Exemplarshealth and see how lessons from Senegal can be applied elsewhere. https://t.co/QwYrIlaO9u\n",
            "\n",
            "18)The French drank an impressive amount of wine in 1926, but their consumption is now a third of what it was back then. Why? I love how this book forces you to think about the story behind a seemingly niche statistic. https://t.co/BBlLdeyRJJ\n",
            "\n",
            "19)My favorite author’s new book might be his best one yet. Each chapter covers one of 71 facts about the world that help you understand how history ties together. I unabashedly recommend it to anyone who loves learning. https://t.co/Sqg0r8K1GA\n",
            "\n",
            "20)Our foundation has been working to address this massive problem for 10 years—here’s one of the incredible Reinvent the Toilet designs that could help: https://t.co/FWyi25kEhb https://t.co/GnIeZhIDY8\n",
            "\n",
            "21)Ever heard a toilet be compared to an espresso machine? That’s how Dr. Shannon Yee describes the toilet he and his team have developed. https://t.co/zvLAE6CJ5t\n",
            "\n",
            "22)How much of the world population still lacks access to a toilet that safely removes waste from the home?\n",
            "\n",
            "Find the answer here: https://t.co/IiIquCEvZ0\n",
            "\n",
            "23)RT @gatesfoundation: “We are closer than ever to building a world where safe sanitation service is a basic human right enjoyed by everyone,…\n",
            "\n",
            "24)This map from @OurWorldInData shows the progress we’ve made–but also highlights how much work we have left to do. https://t.co/KmmhFnvctZ\n",
            "\n",
            "25)The COVID pandemic is a powerful reminder of the urgent work needed to contain and treat deadly pathogens. I’m optimistic about the progress being made on another crisis: safe sanitation: https://t.co/88jFx2UjiW https://t.co/h5HCSyQxO4\n",
            "\n",
            "26)You were a good sport, Jimmy. Pro tip...never choose glass “#2” in a poop-water challenge: https://t.co/8shvjTNa4M https://t.co/onnWyhJpqm\n",
            "\n",
            "27)RT @AnitaZaidi: Broader geographic distribution of vaccine manufacturing capacity—and the infrastructure to support it—will be critical to…\n",
            "\n",
            "28)The Gates Foundation is providing additional, flexible funding to the @AfricaCDC for its pandemic response efforts, but more assistance from the global community is urgently needed to fill the gaps. https://t.co/x9k41SUi04\n",
            "\n",
            "29)Over the years, I’ve shared a stage with a jar of human feces, smelled pit latrine odor, and drunk water made from poop (and convinced @jimmyfallon to drink it too). Was it worth it? You bet. Here’s why: https://t.co/8SJbCuNezD\n",
            "\n",
            "30)RT @MSuzman: We take one step closer to a malaria-free world with this exciting new project that seeks to develop an mRNA-based malaria vac…\n",
            "\n",
            "31)I’ve been rewatching some of my favorite movies. Add your favorites to the list on @Likewise. https://t.co/bEgD4aMmSU\n",
            "\n",
            "32)Getting an early start on my weekend reading: this article does a good job explaining immunity and what may happen with COVID-19 in the future. https://t.co/AHatTlUdOr\n",
            "\n",
            "33)During the height of the U.S. polio epidemic, the iron lung was one of the greatest tools used to fight polio. Today, it’s the iron will of the thousands of workers and their supporters who are committed to finishing the job. https://t.co/oAzGsIGSUN #endpolio\n",
            "\n",
            "34)RT @UN: Let us renew our determination to build a strong, sustainable and inclusive recovery from the pandemic, and to take decisive action…\n",
            "\n",
            "35)Our foundation joined the polio fight almost 15 years ago. And in all that time, I cannot think of a more important moment than right now. https://t.co/ZUyvSZyzau\n",
            "\n",
            "36)I look forward to working with you and @EU_Commission on all of these important goals. Europe is a critical partner in creating a net-zero future and ensuring a healthy and equitable world for all. https://t.co/O16waKVVVo\n",
            "\n",
            "37)RT @EIB: How can we:\n",
            "💨 Boost #greentech growth?\n",
            "🔽 Lower costs?\n",
            "🪙 Help commercialise #sustainable projects faster?\n",
            "\n",
            "President Hoyer met with…\n",
            "\n",
            "38)Reaching net-zero emissions by 2050 means transforming our entire physical economy and accelerating innovation at an unprecedented pace. @Breakthrough Energy Catalyst will jumpstart this process. https://t.co/MAKM2lAyy0\n",
            "\n",
            "39)RT @gatesfoundation: Support for polio eradication will not only help wipe out a disease, it will prepare countries against future health t…\n",
            "\n",
            "40)This is the greatest opportunity for innovation in human history: https://t.co/rBFo2LjpsH https://t.co/bj6rY3FszB\n",
            "\n",
            "41)RT @Breakthrough: BE Catalyst is financing the foundation of a clean economy through four critical technologies. In these areas, Catalyst a…\n",
            "\n",
            "42)These students are doing inspiring work. Their ambition makes me optimistic about the future of health care (and the world). https://t.co/jA9yDbo5Or\n",
            "\n",
            "43)I’m excited about @Breakthrough Energy Catalyst and think it can help make clean-energy innovations more available and affordable for everyone. https://t.co/59eVhOSrGC\n",
            "\n",
            "44)COVID-19 has highlighted how digital tools can save lives. I’m encouraged by @ExemplarsHealth research highlighting how technologies in Nigeria, Sri Lanka, Burkina Faso, Uganda, South Africa, and Vietnam can be scaled to detect and respond to pandemics. https://t.co/x1W7IyhSnP\n",
            "\n",
            "45)This expanded commitment to the foundation will accelerate its mission to fight poverty, disease, and inequity around the world. I'm grateful to the foundation's leadership team, employees, and partners for their dedication to making the world healthier and more just. https://t.co/6fqy34HX6C\n",
            "\n",
            "46)RT @USAID: With nearly six decades in the medical profession, Dr. Louisa Samonsia thought she had seen it all. Then, COVID-19 hit.\n",
            "\n",
            "Learn h…\n",
            "\n",
            "47)Stopping Alzheimer’s requires more eyes on the problem. ADDI @AlzData recently hosted their 1st Data Challenge. I was inspired to see more than 1,200+ people from 65+ countries/regions join the fight. https://t.co/kTovX2SWch\n",
            "\n",
            "48)It’s really encouraging to see these results. Dengue fever infects hundreds of millions of people a year and causes debilitating disease. This incredible technique could also be effective at stopping the spread of other viruses like Zika and Chikungunya. https://t.co/AdFpD1hW5c\n",
            "\n",
            "49)This important commitment builds on the @gatesfoundation's efforts to support partners working to create a more equal world. https://t.co/M0RO0s62ZP\n",
            "\n",
            "50)I am truly grateful for his wisdom and leadership, and most of all for his enduring friendship. Warren will continue to inspire our foundation as we work to fight poverty and help millions of people live healthier lives. https://t.co/qYYl1APURx\n",
            "\n"
          ],
          "name": "stdout"
        }
      ]
    },
    {
      "cell_type": "code",
      "metadata": {
        "colab": {
          "base_uri": "https://localhost:8080/",
          "height": 204
        },
        "id": "5A0RKvaXHjUY",
        "outputId": "58944bc8-fb93-418e-ab27-071313c0220b"
      },
      "source": [
        "#Store tweets in detaframe\n",
        "df = pd.DataFrame([tweet.full_text for tweet in posts], columns=['Tweets'])\n",
        "#first 5 tweets\n",
        "df.head()"
      ],
      "execution_count": null,
      "outputs": [
        {
          "output_type": "execute_result",
          "data": {
            "text/html": [
              "<div>\n",
              "<style scoped>\n",
              "    .dataframe tbody tr th:only-of-type {\n",
              "        vertical-align: middle;\n",
              "    }\n",
              "\n",
              "    .dataframe tbody tr th {\n",
              "        vertical-align: top;\n",
              "    }\n",
              "\n",
              "    .dataframe thead th {\n",
              "        text-align: right;\n",
              "    }\n",
              "</style>\n",
              "<table border=\"1\" class=\"dataframe\">\n",
              "  <thead>\n",
              "    <tr style=\"text-align: right;\">\n",
              "      <th></th>\n",
              "      <th>Tweets</th>\n",
              "    </tr>\n",
              "  </thead>\n",
              "  <tbody>\n",
              "    <tr>\n",
              "      <th>0</th>\n",
              "      <td>I applaud David Vélez and Mariel Reyes’s pledg...</td>\n",
              "    </tr>\n",
              "    <tr>\n",
              "      <th>1</th>\n",
              "      <td>Thank you to @DonorsChoose, and to all 40,255 ...</td>\n",
              "    </tr>\n",
              "    <tr>\n",
              "      <th>2</th>\n",
              "      <td>This collaboration’s impact is made possible t...</td>\n",
              "    </tr>\n",
              "    <tr>\n",
              "      <th>3</th>\n",
              "      <td>Avoiding a climate disaster will require a new...</td>\n",
              "    </tr>\n",
              "    <tr>\n",
              "      <th>4</th>\n",
              "      <td>I'm incredibly excited about the new collabora...</td>\n",
              "    </tr>\n",
              "  </tbody>\n",
              "</table>\n",
              "</div>"
            ],
            "text/plain": [
              "                                              Tweets\n",
              "0  I applaud David Vélez and Mariel Reyes’s pledg...\n",
              "1  Thank you to @DonorsChoose, and to all 40,255 ...\n",
              "2  This collaboration’s impact is made possible t...\n",
              "3  Avoiding a climate disaster will require a new...\n",
              "4  I'm incredibly excited about the new collabora..."
            ]
          },
          "metadata": {},
          "execution_count": 43
        }
      ]
    },
    {
      "cell_type": "code",
      "metadata": {
        "id": "AVaGHzm3DCX8"
      },
      "source": [
        "#class to analize the data gathered from the tweeter streams\n",
        "class TweetAnalizer():\n",
        "  def cleanTxt(tweet):\n",
        "    return ' '.join(re.sub(\"(@[A-Za-z0-9]+)|([^0-9A-Za-z \\t])|(\\w+:\\/\\/\\S+)\", \" \", tweet).split())\n",
        "  def getSentiment(tweet):\n",
        "       return TextBlob(Text).sentiment.polarity\n",
        "#apply Analizer\n",
        "\n"
      ],
      "execution_count": null,
      "outputs": []
    },
    {
      "cell_type": "code",
      "metadata": {
        "id": "hPsF6uZvI2mR"
      },
      "source": [
        ""
      ],
      "execution_count": null,
      "outputs": []
    }
  ]
}