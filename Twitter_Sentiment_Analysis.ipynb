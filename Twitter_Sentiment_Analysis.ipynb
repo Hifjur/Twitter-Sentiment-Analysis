{
  "nbformat": 4,
  "nbformat_minor": 0,
  "metadata": {
    "colab": {
      "name": "Twitter Sentiment Analysis.ipynb",
      "provenance": [],
      "collapsed_sections": [],
      "authorship_tag": "ABX9TyMmh40sDkRE0Y9fyw5icV3P",
      "include_colab_link": true
    },
    "kernelspec": {
      "display_name": "Python 3",
      "name": "python3"
    },
    "language_info": {
      "name": "python"
    }
  },
  "cells": [
    {
      "cell_type": "markdown",
      "metadata": {
        "id": "view-in-github",
        "colab_type": "text"
      },
      "source": [
        "<a href=\"https://colab.research.google.com/github/Hifjur/Twitter-Sentiment-Analysis/blob/main/Twitter_Sentiment_Analysis.ipynb\" target=\"_parent\"><img src=\"https://colab.research.google.com/assets/colab-badge.svg\" alt=\"Open In Colab\"/></a>"
      ]
    },
    {
      "cell_type": "markdown",
      "metadata": {
        "id": "CB12WoJDZZNr"
      },
      "source": [
        "Dataset from \n",
        "https://www.kaggle.com/cosmos98/twitter-and-reddit-sentimental-analysis-dataset\n",
        "using the twitter dataset only"
      ]
    },
    {
      "cell_type": "code",
      "metadata": {
        "colab": {
          "base_uri": "https://localhost:8080/"
        },
        "id": "OaTE5cqdAY0Y",
        "outputId": "349e107a-24a1-4a45-81ff-7ecfbcd569da"
      },
      "source": [
        "#importing the libraries\n",
        "import tweepy\n",
        "import pandas as pd\n",
        "import numpy as np\n",
        "import gensim\n",
        "import os\n",
        "import nltk\n",
        "nltk.download('punkt')\n",
        "import matplotlib.pyplot as plt\n",
        "import csv\n",
        "import warnings\n",
        "warnings.filterwarnings('ignore')\n",
        "%matplotlib inline\n",
        "\n"
      ],
      "execution_count": 2,
      "outputs": [
        {
          "output_type": "stream",
          "name": "stdout",
          "text": [
            "[nltk_data] Downloading package punkt to /root/nltk_data...\n",
            "[nltk_data]   Unzipping tokenizers/punkt.zip.\n"
          ]
        }
      ]
    },
    {
      "cell_type": "code",
      "metadata": {
        "id": "h7jDeKMnEpxI"
      },
      "source": [
        "#loading data\n",
        "df = pd.read_csv('https://raw.githubusercontent.com/Hifjur/Twitter-Sentiment-Analysis/main/Twitter_Data.csv')\n"
      ],
      "execution_count": 3,
      "outputs": []
    },
    {
      "cell_type": "code",
      "metadata": {
        "colab": {
          "base_uri": "https://localhost:8080/",
          "height": 204
        },
        "id": "m7Kb8irHvEaB",
        "outputId": "6304f153-8a22-4e40-cd82-7593cf878752"
      },
      "source": [
        "df.head()"
      ],
      "execution_count": null,
      "outputs": [
        {
          "data": {
            "text/html": [
              "<div>\n",
              "<style scoped>\n",
              "    .dataframe tbody tr th:only-of-type {\n",
              "        vertical-align: middle;\n",
              "    }\n",
              "\n",
              "    .dataframe tbody tr th {\n",
              "        vertical-align: top;\n",
              "    }\n",
              "\n",
              "    .dataframe thead th {\n",
              "        text-align: right;\n",
              "    }\n",
              "</style>\n",
              "<table border=\"1\" class=\"dataframe\">\n",
              "  <thead>\n",
              "    <tr style=\"text-align: right;\">\n",
              "      <th></th>\n",
              "      <th>clean_text</th>\n",
              "      <th>category</th>\n",
              "    </tr>\n",
              "  </thead>\n",
              "  <tbody>\n",
              "    <tr>\n",
              "      <th>0</th>\n",
              "      <td>when modi promised “minimum government maximum...</td>\n",
              "      <td>-1.0</td>\n",
              "    </tr>\n",
              "    <tr>\n",
              "      <th>1</th>\n",
              "      <td>talk all the nonsense and continue all the dra...</td>\n",
              "      <td>0.0</td>\n",
              "    </tr>\n",
              "    <tr>\n",
              "      <th>2</th>\n",
              "      <td>what did just say vote for modi  welcome bjp t...</td>\n",
              "      <td>1.0</td>\n",
              "    </tr>\n",
              "    <tr>\n",
              "      <th>3</th>\n",
              "      <td>asking his supporters prefix chowkidar their n...</td>\n",
              "      <td>1.0</td>\n",
              "    </tr>\n",
              "    <tr>\n",
              "      <th>4</th>\n",
              "      <td>answer who among these the most powerful world...</td>\n",
              "      <td>1.0</td>\n",
              "    </tr>\n",
              "  </tbody>\n",
              "</table>\n",
              "</div>"
            ],
            "text/plain": [
              "                                          clean_text  category\n",
              "0  when modi promised “minimum government maximum...      -1.0\n",
              "1  talk all the nonsense and continue all the dra...       0.0\n",
              "2  what did just say vote for modi  welcome bjp t...       1.0\n",
              "3  asking his supporters prefix chowkidar their n...       1.0\n",
              "4  answer who among these the most powerful world...       1.0"
            ]
          },
          "execution_count": 3,
          "metadata": {},
          "output_type": "execute_result"
        }
      ]
    },
    {
      "cell_type": "code",
      "metadata": {
        "colab": {
          "base_uri": "https://localhost:8080/"
        },
        "id": "0lKetUG-8qjy",
        "outputId": "ccba2c40-83b8-48c0-958b-6fbc967ae4ba"
      },
      "source": [
        "df.clean_text.str.replace('[^a-zA-Z]', ' ')"
      ],
      "execution_count": 4,
      "outputs": [
        {
          "output_type": "execute_result",
          "data": {
            "text/plain": [
              "0         when modi promised  minimum government maximum...\n",
              "1         talk all the nonsense and continue all the dra...\n",
              "2         what did just say vote for modi  welcome bjp t...\n",
              "3         asking his supporters prefix chowkidar their n...\n",
              "4         answer who among these the most powerful world...\n",
              "                                ...                        \n",
              "162975    why these     crores paid neerav modi not reco...\n",
              "162976    dear rss terrorist payal gawar what about modi...\n",
              "162977    did you cover her interaction forum where she ...\n",
              "162978    there big project came into india modi dream p...\n",
              "162979    have you ever listen about like gurukul where ...\n",
              "Name: clean_text, Length: 162980, dtype: object"
            ]
          },
          "metadata": {},
          "execution_count": 4
        }
      ]
    },
    {
      "cell_type": "code",
      "metadata": {
        "id": "HUtes7C37u1W"
      },
      "source": [
        "#getting rid of null values\n",
        "df.dropna(inplace= True)"
      ],
      "execution_count": 5,
      "outputs": []
    },
    {
      "cell_type": "code",
      "metadata": {
        "id": "BZgKXr20wCkJ"
      },
      "source": [
        "#importing libraries\n",
        "from sklearn.feature_extraction.text import TfidfVectorizer\n",
        "from sklearn.model_selection import train_test_split\n",
        "from sklearn.svm import LinearSVC\n",
        "from sklearn.metrics import classification_report\n",
        "from sklearn.metrics import accuracy_score\n",
        "from sklearn.preprocessing import StandardScaler"
      ],
      "execution_count": 6,
      "outputs": []
    },
    {
      "cell_type": "markdown",
      "metadata": {
        "id": "GNjWRrkivazN"
      },
      "source": [
        "Converting to vector\n"
      ]
    },
    {
      "cell_type": "code",
      "metadata": {
        "id": "oh6r-FDhty5u"
      },
      "source": [
        "#TFIDF vector\n",
        "X = df['clean_text']\n",
        "tfidf = TfidfVectorizer(max_features=10000, ngram_range=(1,2))\n",
        "X = tfidf.fit_transform(X.values.astype(str))\n",
        "Y = df['category']"
      ],
      "execution_count": 7,
      "outputs": []
    },
    {
      "cell_type": "code",
      "metadata": {
        "colab": {
          "base_uri": "https://localhost:8080/"
        },
        "id": "4c9Qxlq1vej8",
        "outputId": "89739487-75d7-4647-d007-9ecbbce5d14f"
      },
      "source": [
        "X.shape"
      ],
      "execution_count": null,
      "outputs": [
        {
          "data": {
            "text/plain": [
              "(162969, 10000)"
            ]
          },
          "execution_count": 23,
          "metadata": {},
          "output_type": "execute_result"
        }
      ]
    },
    {
      "cell_type": "code",
      "metadata": {
        "id": "W6XknsI33NqW"
      },
      "source": [
        "#train slpit the data set \n",
        "X_train, X_test, Y_train, Y_test = train_test_split(X, Y, test_size = 0.2, random_state = 0)"
      ],
      "execution_count": 8,
      "outputs": []
    },
    {
      "cell_type": "code",
      "metadata": {
        "colab": {
          "base_uri": "https://localhost:8080/"
        },
        "id": "PzAtPSBNKH57",
        "outputId": "c0fa5fd9-6617-4641-db13-edb7786ac661"
      },
      "source": [
        "X"
      ],
      "execution_count": null,
      "outputs": [
        {
          "data": {
            "text/plain": [
              "<162969x10000 sparse matrix of type '<class 'numpy.float64'>'\n",
              "\twith 3483712 stored elements in Compressed Sparse Row format>"
            ]
          },
          "execution_count": 61,
          "metadata": {},
          "output_type": "execute_result"
        }
      ]
    },
    {
      "cell_type": "code",
      "metadata": {
        "colab": {
          "base_uri": "https://localhost:8080/"
        },
        "id": "m1aBo7ET33Kr",
        "outputId": "a6662d72-235d-4335-9fc2-9554e9553bc4"
      },
      "source": [
        "X_train.shape, X_test.shape"
      ],
      "execution_count": null,
      "outputs": [
        {
          "data": {
            "text/plain": [
              "((130375, 10000), (32594, 10000))"
            ]
          },
          "execution_count": 12,
          "metadata": {},
          "output_type": "execute_result"
        }
      ]
    },
    {
      "cell_type": "code",
      "metadata": {
        "colab": {
          "base_uri": "https://localhost:8080/"
        },
        "id": "upMDimXl7RG2",
        "outputId": "7477912b-ae28-453a-d976-d0ec63ae3085"
      },
      "source": [
        "df.isnull().sum()"
      ],
      "execution_count": null,
      "outputs": [
        {
          "data": {
            "text/plain": [
              "clean_text    0\n",
              "category      0\n",
              "dtype: int64"
            ]
          },
          "execution_count": 9,
          "metadata": {},
          "output_type": "execute_result"
        }
      ]
    },
    {
      "cell_type": "code",
      "metadata": {
        "colab": {
          "base_uri": "https://localhost:8080/"
        },
        "id": "HchLkUpZPgjQ",
        "outputId": "1d858046-0166-4f22-f0d2-1be5a673b65d"
      },
      "source": [
        "#SVM \n",
        "from sklearn.svm import SVC\n",
        "clf = SVC(gamma = 'auto', random_state = 0)\n",
        "clf.fit(X_train, Y_train)\n",
        "y_pred_train = clf.predict(X_train)\n",
        "y_pred_test = clf.predict(X_test)\n",
        "print(\"Train Accuracy: \", accuracy_score(y_pred_train, Y_train))\n",
        "print(\"Test Accuracy: \", accuracy_score(y_pred_test, Y_test))"
      ],
      "execution_count": null,
      "outputs": [
        {
          "name": "stdout",
          "output_type": "stream",
          "text": [
            "Train Accuracy:  0.4425848513902205\n",
            "Test Accuracy:  0.44630913665091737\n"
          ]
        }
      ]
    },
    {
      "cell_type": "code",
      "metadata": {
        "colab": {
          "base_uri": "https://localhost:8080/"
        },
        "id": "khrlvn8LZC1E",
        "outputId": "6cff992a-dc58-41ee-f0bb-05734dbe8333"
      },
      "source": [
        "clf = LinearSVC()\n",
        "clf.fit(X_train, Y_train)\n",
        "print(clf.score(X_test, Y_test))"
      ],
      "execution_count": null,
      "outputs": [
        {
          "name": "stdout",
          "output_type": "stream",
          "text": [
            "0.9430876848499724\n"
          ]
        }
      ]
    },
    {
      "cell_type": "code",
      "metadata": {
        "colab": {
          "base_uri": "https://localhost:8080/"
        },
        "id": "7aIvZi_wO7Uh",
        "outputId": "2b5c4404-1557-4a38-c060-4afc3d0648b1"
      },
      "source": [
        "# for the SVC classifier\n",
        "from sklearn import metrics\n",
        "print(\"Confusion Matrix for the Test Case\")\n",
        "print(metrics.confusion_matrix(Y_test, y_pred_test))\n",
        "print()\n",
        "print(\"Classification Report\")\n",
        "print(metrics.classification_report(Y_test, y_pred_test, digits = 3))"
      ],
      "execution_count": null,
      "outputs": [
        {
          "name": "stdout",
          "output_type": "stream",
          "text": [
            "Confusion Matrix for the Test Case\n",
            "[[    0     0  7032]\n",
            " [    0     0 11015]\n",
            " [    0     0 14547]]\n",
            "\n",
            "Classification Report\n",
            "              precision    recall  f1-score   support\n",
            "\n",
            "        -1.0      0.000     0.000     0.000      7032\n",
            "         0.0      0.000     0.000     0.000     11015\n",
            "         1.0      0.446     1.000     0.617     14547\n",
            "\n",
            "    accuracy                          0.446     32594\n",
            "   macro avg      0.149     0.333     0.206     32594\n",
            "weighted avg      0.199     0.446     0.275     32594\n",
            "\n"
          ]
        }
      ]
    },
    {
      "cell_type": "code",
      "metadata": {
        "colab": {
          "base_uri": "https://localhost:8080/"
        },
        "id": "T8MpV17Xobon",
        "outputId": "5c6f0414-c321-49b4-dd18-36d0d55a1775"
      },
      "source": [
        "# Logistic Regression\n",
        "\n",
        "from sklearn.linear_model import LogisticRegression\n",
        "clf = LogisticRegression(penalty = 'none')\n",
        "\n",
        "clf.fit(X_train, Y_train)\n",
        "y_pred_train = clf.predict(X_train)\n",
        "y_pred_test = clf.predict(X_test)\n",
        "print(\"Logistic Regression with no regularization\")\n",
        "print(\"Train Accuracy: \", accuracy_score(y_pred_train, Y_train))\n",
        "print(\"Test Accuracy: \", accuracy_score(y_pred_test, Y_test))\n",
        "print()\n",
        "\n",
        "clf = LogisticRegression(penalty = 'l2')\n",
        "\n",
        "clf.fit(X_train, Y_train)\n",
        "y_pred_train = clf.predict(X_train)\n",
        "y_pred_test = clf.predict(X_test)\n",
        "print(\"Logistic Regression with L2 regularization\")\n",
        "print(\"Train Accuracy: \", accuracy_score(y_pred_train, Y_train))\n",
        "print(\"Test Accuracy: \", accuracy_score(y_pred_test, Y_test))"
      ],
      "execution_count": null,
      "outputs": [
        {
          "name": "stdout",
          "output_type": "stream",
          "text": [
            "Logistic Regression with no regularization\n",
            "Train Accuracy:  0.9580517737296261\n",
            "Test Accuracy:  0.9352334785543351\n",
            "\n",
            "Logistic Regression with L2 regularization\n",
            "Train Accuracy:  0.9364832214765101\n",
            "Test Accuracy:  0.9184512486960791\n"
          ]
        }
      ]
    },
    {
      "cell_type": "code",
      "metadata": {
        "colab": {
          "base_uri": "https://localhost:8080/",
          "height": 738
        },
        "id": "hDnuljUDoxIU",
        "outputId": "5565bf30-eaeb-4c57-8ee2-f86a4f782458"
      },
      "source": [
        "# Decision Tree\n",
        "\n",
        "from sklearn.tree import DecisionTreeClassifier\n",
        "\n",
        "maxdepths = [2,3,4,5,6,7,8,9,10,15,20,25,30,35,40,45,50,55,60,65,70,75,80,85,90,95,100]\n",
        "trainAcc = np.zeros(len(maxdepths))\n",
        "testAcc = np.zeros(len(maxdepths))\n",
        "\n",
        "index = 0\n",
        "for depth in maxdepths:\n",
        "    clf = DecisionTreeClassifier(max_depth=depth)\n",
        "    clf = clf.fit(X_train, Y_train)\n",
        "    y_predTrain = clf.predict(X_train)\n",
        "    y_predTest = clf.predict(X_test)\n",
        "    trainAcc[index] = accuracy_score(Y_train, y_predTrain)\n",
        "    testAcc[index] = accuracy_score(Y_test, y_predTest)\n",
        "    print(\"Depth = \", depth, \", Training Accuracy = \", trainAcc[index], \", Test Accuracy = \", testAcc[index], \n",
        "          \", Diff = \", np.abs((trainAcc[index]-testAcc[index])*100), \" %\")\n",
        "    index += 1\n",
        "\n",
        "    \n",
        "\n",
        "# Plot of training and test accuracies\n",
        "\n",
        "    \n",
        "plt.plot(maxdepths,trainAcc,'ro-',maxdepths,testAcc,'bv--')\n",
        "plt.legend(['Training Accuracy','Test Accuracy'])\n",
        "plt.xlabel('Max depth')\n",
        "plt.ylabel('Accuracy');"
      ],
      "execution_count": null,
      "outputs": [
        {
          "name": "stdout",
          "output_type": "stream",
          "text": [
            "Depth =  2 , Training Accuracy =  0.4936069031639501 , Test Accuracy =  0.49493771859851504 , Diff =  0.13308154345649248  %\n",
            "Depth =  3 , Training Accuracy =  0.5022281879194631 , Test Accuracy =  0.5032521322942873 , Diff =  0.1023944374824226  %\n",
            "Depth =  4 , Training Accuracy =  0.5109031639501438 , Test Accuracy =  0.5105234092164203 , Diff =  0.03797547337235363  %\n",
            "Depth =  5 , Training Accuracy =  0.52720230105465 , Test Accuracy =  0.5262318218076947 , Diff =  0.09704792469553691  %\n",
            "Depth =  6 , Training Accuracy =  0.5405023969319271 , Test Accuracy =  0.5391789899981592 , Diff =  0.13234069337679788  %\n",
            "Depth =  7 , Training Accuracy =  0.5516164908916587 , Test Accuracy =  0.5492421918144443 , Diff =  0.23742990772143147  %\n",
            "Depth =  8 , Training Accuracy =  0.5593250239693193 , Test Accuracy =  0.5565441492299196 , Diff =  0.2780874739399697  %\n",
            "Depth =  9 , Training Accuracy =  0.5645330776605945 , Test Accuracy =  0.5617905135914586 , Diff =  0.27425640691358666  %\n",
            "Depth =  10 , Training Accuracy =  0.571006711409396 , Test Accuracy =  0.5666687120328895 , Diff =  0.4337999376506474  %\n",
            "Depth =  15 , Training Accuracy =  0.6053767976989454 , Test Accuracy =  0.5930846168006382 , Diff =  1.2292180898307192  %\n",
            "Depth =  20 , Training Accuracy =  0.6439194630872483 , Test Accuracy =  0.6237344296496288 , Diff =  2.018503343761957  %\n",
            "Depth =  25 , Training Accuracy =  0.6756816874400767 , Test Accuracy =  0.6469288826164324 , Diff =  2.8752804823644285  %\n",
            "Depth =  30 , Training Accuracy =  0.7015148609779482 , Test Accuracy =  0.6639258759280849 , Diff =  3.75889850498633  %\n",
            "Depth =  35 , Training Accuracy =  0.7242109300095877 , Test Accuracy =  0.6779161808921887 , Diff =  4.629474911739894  %\n",
            "Depth =  40 , Training Accuracy =  0.7457104506232023 , Test Accuracy =  0.6911701540160766 , Diff =  5.454029660712568  %\n",
            "Depth =  45 , Training Accuracy =  0.7643873441994248 , Test Accuracy =  0.702184451125974 , Diff =  6.220289307345073  %\n",
            "Depth =  50 , Training Accuracy =  0.7807018216682646 , Test Accuracy =  0.7114192796220163 , Diff =  6.928254204624828  %\n",
            "Depth =  55 , Training Accuracy =  0.7985733461169703 , Test Accuracy =  0.7218199668650672 , Diff =  7.675337925190306  %\n",
            "Depth =  60 , Training Accuracy =  0.815025886864813 , Test Accuracy =  0.7293980487206234 , Diff =  8.562783814418962  %\n",
            "Depth =  65 , Training Accuracy =  0.8285790987535954 , Test Accuracy =  0.739952138430386 , Diff =  8.862696032320938  %\n",
            "Depth =  70 , Training Accuracy =  0.8414726749760307 , Test Accuracy =  0.7477143032459962 , Diff =  9.375837173003454  %\n",
            "Depth =  75 , Training Accuracy =  0.8522569511025887 , Test Accuracy =  0.7558753144750567 , Diff =  9.638163662753197  %\n",
            "Depth =  80 , Training Accuracy =  0.8608398849472675 , Test Accuracy =  0.7594956126894521 , Diff =  10.13442722578154  %\n",
            "Depth =  85 , Training Accuracy =  0.8698906999041227 , Test Accuracy =  0.765754433331288 , Diff =  10.41362665728347  %\n",
            "Depth =  90 , Training Accuracy =  0.8774304889741131 , Test Accuracy =  0.7716144075596736 , Diff =  10.581608141443954  %\n",
            "Depth =  95 , Training Accuracy =  0.8836740172579098 , Test Accuracy =  0.7784868380683562 , Diff =  10.518717918955367  %\n",
            "Depth =  100 , Training Accuracy =  0.8897488015340365 , Test Accuracy =  0.7828127876296251 , Diff =  10.693601390441131  %\n"
          ]
        },
        {
          "data": {
            "image/png": "[encoded data removed]",
            "text/plain": [
              "<Figure size 432x288 with 1 Axes>"
            ]
          },
          "metadata": {},
          "output_type": "display_data"
        }
      ]
    },
    {
      "cell_type": "code",
      "metadata": {
        "colab": {
          "base_uri": "https://localhost:8080/",
          "height": 398
        },
        "id": "CT4P_DhzNgMi",
        "outputId": "3f95040f-71c6-4c53-8e36-31bd1faca4f1"
      },
      "source": [
        "# KNN with Euclidean Distance Metric\n",
        "\n",
        "from sklearn.neighbors import KNeighborsClassifier\n",
        "numNeighbors = [1, 5, 10, 15, 20, 25, 30]\n",
        "trainAcc = []\n",
        "testAcc = []\n",
        "\n",
        "for k in numNeighbors:\n",
        "    clf = KNeighborsClassifier(n_neighbors=k, metric='minkowski', p=2)\n",
        "    clf.fit(X_train, Y_train)\n",
        "    y_predTrain = clf.predict(X_train)\n",
        "    y_predTest = clf.predict(X_test)\n",
        "    trainAcc.append(accuracy_score(Y_train, y_predTrain))\n",
        "    testAcc.append(accuracy_score(Y_test, y_predTest))\n",
        "\n",
        "plt.plot(numNeighbors, trainAcc, 'ro-', numNeighbors, testAcc,'bv--')\n",
        "plt.legend(['Training Accuracy','Test Accuracy'])\n",
        "plt.xlabel('Number of neighbors')\n",
        "plt.ylabel('Accuracy');\n",
        "\n",
        "index = 0\n",
        "for i in numNeighbors:\n",
        "    print(\"K = \", numNeighbors[index], \", Training Accuracy = \", trainAcc[index], \" Test Accuracy = \", testAcc[index], \n",
        "          \", Difference = \", np.abs(trainAcc[index]-testAcc[index])*100, \"%\")\n",
        "    index+=1"
      ],
      "execution_count": null,
      "outputs": [
        {
          "name": "stdout",
          "output_type": "stream",
          "text": [
            "K =  1 , Training Accuracy =  0.9997775647171621  Test Accuracy =  0.4457875682640977 , Difference =  55.39899964530643 %\n",
            "K =  5 , Training Accuracy =  0.4390412272291467  Test Accuracy =  0.40887893477327114 , Difference =  3.016229245587554 %\n",
            "K =  10 , Training Accuracy =  0.39709300095877276  Test Accuracy =  0.3889979750874394 , Difference =  0.8095025871333372 %\n",
            "K =  15 , Training Accuracy =  0.38479769894534993  Test Accuracy =  0.37927225869791986 , Difference =  0.5525440247430069 %\n",
            "K =  20 , Training Accuracy =  0.37561649089165866  Test Accuracy =  0.3712032889488863 , Difference =  0.4413201942772338 %\n",
            "K =  25 , Training Accuracy =  0.36995589645254073  Test Accuracy =  0.3664478124808247 , Difference =  0.3508083971716036 %\n",
            "K =  30 , Training Accuracy =  0.3657372962607862  Test Accuracy =  0.36169233601276307 , Difference =  0.4044960248023144 %\n"
          ]
        },
        {
          "data": {
            "image/png": "[encoded data removed]",
            "text/plain": [
              "<Figure size 432x288 with 1 Axes>"
            ]
          },
          "metadata": {},
          "output_type": "display_data"
        }
      ]
    },
    {
      "cell_type": "code",
      "metadata": {
        "colab": {
          "base_uri": "https://localhost:8080/"
        },
        "id": "GvBLslB5B0-q",
        "outputId": "b3fa201b-0097-470a-8328-4bc02352d1a3"
      },
      "source": [
        "#Random Forest\n",
        "from sklearn.ensemble import RandomForestClassifier\n",
        "import sklearn.metrics as metrics\n",
        "clf = RandomForestClassifier(n_estimators = 200)  \n",
        "clf.fit(X_train, Y_train)\n",
        "y_pred_test = clf.predict(X_test)\n",
        "y_pred_train = clf.predict(X_train)  \n",
        "print()\n",
        "print(\"TEST ACCURACY OF THE MODEL: \", metrics.accuracy_score(Y_test, y_pred_test))\n",
        "print(\"TRAIN ACCURACY OF THE MODEL: \", metrics.accuracy_score(Y_train, y_pred_train))"
      ],
      "execution_count": 9,
      "outputs": [
        {
          "output_type": "stream",
          "name": "stdout",
          "text": [
            "\n",
            "TEST ACCURACY OF THE MODEL:  0.8370558998588697\n",
            "TRAIN ACCURACY OF THE MODEL:  0.9998312559923298\n"
          ]
        }
      ]
    },
    {
      "cell_type": "code",
      "metadata": {
        "colab": {
          "base_uri": "https://localhost:8080/"
        },
        "id": "PbkthS16STRA",
        "outputId": "e6d4df4a-95f2-4c8f-d90b-7daae8e97c9a"
      },
      "source": [
        "# Multinomial Naive Bayes\n",
        "\n",
        "from sklearn.naive_bayes import MultinomialNB\n",
        "clf = MultinomialNB()\n",
        "clf.fit(X_train, Y_train)\n",
        "y_pred_train = clf.predict(X_train)\n",
        "y_pred_test = clf.predict(X_test)\n",
        "print(\"Train Accuracy: \", accuracy_score(y_pred_train, Y_train))\n",
        "print(\"Test Accuracy: \", accuracy_score(y_pred_test, Y_test))"
      ],
      "execution_count": null,
      "outputs": [
        {
          "name": "stdout",
          "output_type": "stream",
          "text": [
            "Train Accuracy:  0.7860709491850432\n",
            "Test Accuracy:  0.7587899613425784\n"
          ]
        }
      ]
    }
  ]
}